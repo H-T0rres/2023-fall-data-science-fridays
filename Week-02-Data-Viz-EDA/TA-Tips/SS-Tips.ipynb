{
 "cells": [
  {
   "cell_type": "markdown",
   "id": "688f9f0f",
   "metadata": {},
   "source": [
    "# Week #2 Tip - Bokeh Library"
   ]
  },
  {
   "cell_type": "markdown",
   "id": "1650d4e9",
   "metadata": {},
   "source": [
    "The Bokeh library is a popular Python library for creating interactive data visualizations and is commonly used for data exploration, analysis, and presentation. Bokeh provides several advantages and use cases that make it a valuable tool in the data science and visualization toolkit:\n",
    "\n",
    "1. Interactive Visualizations: Bokeh allows you to create interactive plots and dashboards easily. You can add tools like zoom, pan, hover tooltips, and selection widgets to your plots, making it easier for users to explore and interact with data.\n",
    "\n",
    "2. Compatibility with Web Browsers: Bokeh generates HTML and JavaScript code for its visualizations, which can be embedded in web applications or viewed in web browsers. This makes it suitable for creating web-based data dashboards and reports.\n",
    "\n",
    "3. Versatile Plot Types: Bokeh supports a wide range of plot types, including line plots, scatter plots, bar charts, histograms, heatmaps, and more. You can create complex and customized visualizations to suit your specific data analysis needs.\n",
    "\n",
    "4. High-Level and Low-Level APIs: Bokeh offers both high-level and low-level APIs for creating visualizations. You can use the high-level API to quickly create common plots with less code, or you can use the low-level API for more fine-grained control over the appearance and behavior of your plots.\n",
    "\n",
    "5. Integration with Other Libraries: Bokeh can be integrated with other Python libraries such as Pandas and NumPy, making it easy to work with data in various formats and perform data manipulations before visualization.\n",
    "\n",
    "6. Theming and Styling: Bokeh provides options for theming and styling your visualizations, allowing you to customize colors, fonts, and other visual elements to match your project's design requirements.\n",
    "\n",
    "7. Cross-Platform Compatibility: Bokeh works on various operating systems (Windows, macOS, Linux) and is compatible with both Python 2.x and Python 3.x, making it accessible to a wide range of users.\n",
    "\n",
    "8. Community and Documentation: Bokeh has an active user community, which means you can find resources, tutorials, and support when working with the library. The official documentation is comprehensive and provides guidance on how to use its features effectively.\n",
    "\n",
    "9. Export and Deployment Options: Bokeh supports exporting plots as static images or interactive HTML files, making it easy to share your visualizations with others. You can also deploy Bokeh applications as standalone web apps or integrate them into larger web applications.\n",
    "\n",
    "Overall, Bokeh is a valuable library for creating interactive and informative data visualizations, making it a popular choice among data scientists, analysts, and developers for data exploration and communication.\n",
    "\n",
    "(Yes, I used ChatGPT)"
   ]
  },
  {
   "cell_type": "markdown",
   "id": "180b601b",
   "metadata": {},
   "source": [
    "## Step 1 - Install Bokeh"
   ]
  },
  {
   "cell_type": "code",
   "execution_count": 1,
   "id": "f7a392a4",
   "metadata": {},
   "outputs": [
    {
     "name": "stdout",
     "output_type": "stream",
     "text": [
      "Defaulting to user installation because normal site-packages is not writeable\n",
      "Requirement already satisfied: bokeh in c:\\users\\henry\\appdata\\roaming\\python\\python311\\site-packages (3.2.2)\n",
      "Requirement already satisfied: Jinja2>=2.9 in c:\\programdata\\anaconda3\\lib\\site-packages (from bokeh) (3.1.2)\n",
      "Requirement already satisfied: contourpy>=1 in c:\\programdata\\anaconda3\\lib\\site-packages (from bokeh) (1.0.5)\n",
      "Requirement already satisfied: numpy>=1.16 in c:\\programdata\\anaconda3\\lib\\site-packages (from bokeh) (1.24.3)\n",
      "Requirement already satisfied: packaging>=16.8 in c:\\programdata\\anaconda3\\lib\\site-packages (from bokeh) (23.0)\n",
      "Requirement already satisfied: pandas>=1.2 in c:\\programdata\\anaconda3\\lib\\site-packages (from bokeh) (1.5.3)\n",
      "Requirement already satisfied: pillow>=7.1.0 in c:\\programdata\\anaconda3\\lib\\site-packages (from bokeh) (9.4.0)\n",
      "Requirement already satisfied: PyYAML>=3.10 in c:\\programdata\\anaconda3\\lib\\site-packages (from bokeh) (6.0)\n",
      "Requirement already satisfied: tornado>=5.1 in c:\\programdata\\anaconda3\\lib\\site-packages (from bokeh) (6.2)\n",
      "Requirement already satisfied: xyzservices>=2021.09.1 in c:\\programdata\\anaconda3\\lib\\site-packages (from bokeh) (2022.9.0)\n",
      "Requirement already satisfied: MarkupSafe>=2.0 in c:\\programdata\\anaconda3\\lib\\site-packages (from Jinja2>=2.9->bokeh) (2.1.1)\n",
      "Requirement already satisfied: python-dateutil>=2.8.1 in c:\\programdata\\anaconda3\\lib\\site-packages (from pandas>=1.2->bokeh) (2.8.2)\n",
      "Requirement already satisfied: pytz>=2020.1 in c:\\programdata\\anaconda3\\lib\\site-packages (from pandas>=1.2->bokeh) (2022.7)\n",
      "Requirement already satisfied: six>=1.5 in c:\\programdata\\anaconda3\\lib\\site-packages (from python-dateutil>=2.8.1->pandas>=1.2->bokeh) (1.16.0)\n",
      "Note: you may need to restart the kernel to use updated packages.\n"
     ]
    }
   ],
   "source": [
    "pip install bokeh"
   ]
  },
  {
   "cell_type": "markdown",
   "id": "863df9f7",
   "metadata": {},
   "source": [
    "## Step 2 - Import Libraries and Functions"
   ]
  },
  {
   "cell_type": "code",
   "execution_count": 2,
   "id": "f573132b",
   "metadata": {},
   "outputs": [],
   "source": [
    "import numpy as np\n",
    "from bokeh.plotting import figure, show"
   ]
  },
  {
   "cell_type": "markdown",
   "id": "58ac901d",
   "metadata": {},
   "source": [
    "## Step 3 - Generate Values"
   ]
  },
  {
   "cell_type": "code",
   "execution_count": 3,
   "id": "4a8ea44c",
   "metadata": {},
   "outputs": [],
   "source": [
    "x = np.arange(0, 10, 1) #Values will be from 0 to 10 starting with 1\n",
    "y1 = x ** 2\n",
    "y2 = x ** 3\n",
    "y3 = x ** 4"
   ]
  },
  {
   "cell_type": "markdown",
   "id": "496ffe26",
   "metadata": {},
   "source": [
    "## Step 4 - Creating a Line Graph"
   ]
  },
  {
   "cell_type": "code",
   "execution_count": 4,
   "id": "585bee82",
   "metadata": {},
   "outputs": [],
   "source": [
    "p = figure(title=\"Line Charts\",\n",
    "          x_axis_label = \"x\", y_axis_label = \"y\")"
   ]
  },
  {
   "cell_type": "markdown",
   "id": "8ff784cb",
   "metadata": {},
   "source": [
    "## Step 5 - Plotting Our Generated Coordinates"
   ]
  },
  {
   "cell_type": "code",
   "execution_count": 5,
   "id": "8b0ac3cb",
   "metadata": {},
   "outputs": [
    {
     "data": {
      "text/html": [
       "<div style=\"display: table;\"><div style=\"display: table-row;\"><div style=\"display: table-cell;\"><b title=\"bokeh.models.renderers.glyph_renderer.GlyphRenderer\">GlyphRenderer</b>(</div><div style=\"display: table-cell;\">id&nbsp;=&nbsp;'p1057', <span id=\"p1062\" style=\"cursor: pointer;\">&hellip;)</span></div></div><div class=\"p1061\" style=\"display: none;\"><div style=\"display: table-cell;\"></div><div style=\"display: table-cell;\">coordinates&nbsp;=&nbsp;None,</div></div><div class=\"p1061\" style=\"display: none;\"><div style=\"display: table-cell;\"></div><div style=\"display: table-cell;\">data_source&nbsp;=&nbsp;ColumnDataSource(id='p1051', ...),</div></div><div class=\"p1061\" style=\"display: none;\"><div style=\"display: table-cell;\"></div><div style=\"display: table-cell;\">glyph&nbsp;=&nbsp;Line(id='p1054', ...),</div></div><div class=\"p1061\" style=\"display: none;\"><div style=\"display: table-cell;\"></div><div style=\"display: table-cell;\">group&nbsp;=&nbsp;None,</div></div><div class=\"p1061\" style=\"display: none;\"><div style=\"display: table-cell;\"></div><div style=\"display: table-cell;\">hover_glyph&nbsp;=&nbsp;None,</div></div><div class=\"p1061\" style=\"display: none;\"><div style=\"display: table-cell;\"></div><div style=\"display: table-cell;\">js_event_callbacks&nbsp;=&nbsp;{},</div></div><div class=\"p1061\" style=\"display: none;\"><div style=\"display: table-cell;\"></div><div style=\"display: table-cell;\">js_property_callbacks&nbsp;=&nbsp;{},</div></div><div class=\"p1061\" style=\"display: none;\"><div style=\"display: table-cell;\"></div><div style=\"display: table-cell;\">level&nbsp;=&nbsp;'glyph',</div></div><div class=\"p1061\" style=\"display: none;\"><div style=\"display: table-cell;\"></div><div style=\"display: table-cell;\">muted&nbsp;=&nbsp;False,</div></div><div class=\"p1061\" style=\"display: none;\"><div style=\"display: table-cell;\"></div><div style=\"display: table-cell;\">muted_glyph&nbsp;=&nbsp;Line(id='p1056', ...),</div></div><div class=\"p1061\" style=\"display: none;\"><div style=\"display: table-cell;\"></div><div style=\"display: table-cell;\">name&nbsp;=&nbsp;None,</div></div><div class=\"p1061\" style=\"display: none;\"><div style=\"display: table-cell;\"></div><div style=\"display: table-cell;\">nonselection_glyph&nbsp;=&nbsp;Line(id='p1055', ...),</div></div><div class=\"p1061\" style=\"display: none;\"><div style=\"display: table-cell;\"></div><div style=\"display: table-cell;\">propagate_hover&nbsp;=&nbsp;False,</div></div><div class=\"p1061\" style=\"display: none;\"><div style=\"display: table-cell;\"></div><div style=\"display: table-cell;\">selection_glyph&nbsp;=&nbsp;'auto',</div></div><div class=\"p1061\" style=\"display: none;\"><div style=\"display: table-cell;\"></div><div style=\"display: table-cell;\">subscribed_events&nbsp;=&nbsp;PropertyValueSet(),</div></div><div class=\"p1061\" style=\"display: none;\"><div style=\"display: table-cell;\"></div><div style=\"display: table-cell;\">syncable&nbsp;=&nbsp;True,</div></div><div class=\"p1061\" style=\"display: none;\"><div style=\"display: table-cell;\"></div><div style=\"display: table-cell;\">tags&nbsp;=&nbsp;[],</div></div><div class=\"p1061\" style=\"display: none;\"><div style=\"display: table-cell;\"></div><div style=\"display: table-cell;\">view&nbsp;=&nbsp;CDSView(id='p1058', ...),</div></div><div class=\"p1061\" style=\"display: none;\"><div style=\"display: table-cell;\"></div><div style=\"display: table-cell;\">visible&nbsp;=&nbsp;True,</div></div><div class=\"p1061\" style=\"display: none;\"><div style=\"display: table-cell;\"></div><div style=\"display: table-cell;\">x_range_name&nbsp;=&nbsp;'default',</div></div><div class=\"p1061\" style=\"display: none;\"><div style=\"display: table-cell;\"></div><div style=\"display: table-cell;\">y_range_name&nbsp;=&nbsp;'default')</div></div></div>\n",
       "<script>\n",
       "(function() {\n",
       "  let expanded = false;\n",
       "  const ellipsis = document.getElementById(\"p1062\");\n",
       "  ellipsis.addEventListener(\"click\", function() {\n",
       "    const rows = document.getElementsByClassName(\"p1061\");\n",
       "    for (let i = 0; i < rows.length; i++) {\n",
       "      const el = rows[i];\n",
       "      el.style.display = expanded ? \"none\" : \"table-row\";\n",
       "    }\n",
       "    ellipsis.innerHTML = expanded ? \"&hellip;)\" : \"&lsaquo;&lsaquo;&lsaquo;\";\n",
       "    expanded = !expanded;\n",
       "  });\n",
       "})();\n",
       "</script>\n"
      ],
      "text/plain": [
       "GlyphRenderer(id='p1057', ...)"
      ]
     },
     "execution_count": 5,
     "metadata": {},
     "output_type": "execute_result"
    }
   ],
   "source": [
    "p.line(x, y1, legend_label=\"Quadratic Function\", line_width=2, color = \"red\")\n",
    "p.line(x, y2, legend_label=\"Cubic Function\", line_width=2, color = \"green\")\n",
    "p.line(x, y3, legend_label=\"Quartic Function\", line_width=2, color = \"blue\")"
   ]
  },
  {
   "cell_type": "markdown",
   "id": "b8b5d82e",
   "metadata": {},
   "source": [
    "## Bam!"
   ]
  },
  {
   "cell_type": "code",
   "execution_count": 6,
   "id": "d43cbab1",
   "metadata": {},
   "outputs": [],
   "source": [
    "show(p)"
   ]
  },
  {
   "cell_type": "code",
   "execution_count": null,
   "id": "31ab70e4",
   "metadata": {},
   "outputs": [],
   "source": []
  }
 ],
 "metadata": {
  "kernelspec": {
   "display_name": "Python 3 (ipykernel)",
   "language": "python",
   "name": "python3"
  },
  "language_info": {
   "codemirror_mode": {
    "name": "ipython",
    "version": 3
   },
   "file_extension": ".py",
   "mimetype": "text/x-python",
   "name": "python",
   "nbconvert_exporter": "python",
   "pygments_lexer": "ipython3",
   "version": "3.11.3"
  }
 },
 "nbformat": 4,
 "nbformat_minor": 5
}
